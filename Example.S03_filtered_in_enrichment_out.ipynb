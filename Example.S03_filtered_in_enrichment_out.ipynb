{
 "cells": [
  {
   "cell_type": "code",
   "execution_count": 1,
   "metadata": {},
   "outputs": [
    {
     "name": "stderr",
     "output_type": "stream",
     "text": [
      "Warning message in read.table(file = file, header = header, sep = sep, quote = quote, :\n",
      "“incomplete final line found by readTableHeader on 'this_tissue.txt'”\n",
      "Loading required package: magrittr\n",
      "\n",
      "\n",
      "Attaching package: ‘magrittr’\n",
      "\n",
      "\n",
      "The following object is masked from ‘package:tidyr’:\n",
      "\n",
      "    extract\n",
      "\n",
      "\n",
      "Loading required package: ggplot2\n",
      "\n",
      "Loading required package: lubridate\n",
      "\n",
      "\n",
      "Attaching package: ‘lubridate’\n",
      "\n",
      "\n",
      "The following object is masked from ‘package:base’:\n",
      "\n",
      "    date\n",
      "\n",
      "\n",
      "Loading required package: dplyr\n",
      "\n",
      "\n",
      "Attaching package: ‘dplyr’\n",
      "\n",
      "\n",
      "The following objects are masked from ‘package:lubridate’:\n",
      "\n",
      "    intersect, setdiff, union\n",
      "\n",
      "\n",
      "The following objects are masked from ‘package:stats’:\n",
      "\n",
      "    filter, lag\n",
      "\n",
      "\n",
      "The following objects are masked from ‘package:base’:\n",
      "\n",
      "    intersect, setdiff, setequal, union\n",
      "\n",
      "\n",
      "\n",
      "Attaching package: ‘radiant.data’\n",
      "\n",
      "\n",
      "The following objects are masked from ‘package:lubridate’:\n",
      "\n",
      "    month, wday\n",
      "\n",
      "\n",
      "The following object is masked from ‘package:ggplot2’:\n",
      "\n",
      "    diamonds\n",
      "\n",
      "\n",
      "\n",
      "Attaching package: ‘textshape’\n",
      "\n",
      "\n",
      "The following object is masked from ‘package:dplyr’:\n",
      "\n",
      "    combine\n",
      "\n",
      "\n",
      "The following object is masked from ‘package:lubridate’:\n",
      "\n",
      "    duration\n",
      "\n",
      "\n",
      "## FSA v0.8.27. See citation('FSA') if used in publication.\n",
      "## Run fishR() for related website and fishR('IFAR') for related book.\n",
      "\n",
      "\n",
      "Attaching package: ‘FSA’\n",
      "\n",
      "\n",
      "The following object is masked from ‘package:radiant.data’:\n",
      "\n",
      "    se\n",
      "\n",
      "\n"
     ]
    }
   ],
   "source": [
    "# if all else fails, be sure to download the exact package versions in R if trying to debug the pipeline brings no fruit.\n",
    "# there is a known issue with tidyr, which is why you should NOT use the latest version, at least at the time when this \n",
    "# comment was written. Download version 0.8.2\"\n",
    "\n",
    "#require(devtools)\n",
    "#install_version(\"tidyr\", version = \"0.8.2\", repos = \"http://cran.us.r-project.org\")\n",
    "\n",
    "# The other package versions that this code was tested with were as follows:\n",
    "tissue=data.frame(read.csv(\"this_tissue.txt\",header=F))$V1 #this dir's tissue\n",
    "tissue = as.character(tissue)\n",
    "\n",
    "library(ExOutBench)\n",
    "library(tidyr)\n",
    "library(radiant.data)\n",
    "library(textshape)\n",
    "library(ExOutBench)\n",
    "library(dplyr)\n",
    "library(magrittr)\n",
    "library(FSA)\n",
    "library(ggplot2)\n",
    "library(readr)\n",
    "library(stringr)\n",
    "library(jupyterslack)\n"
   ]
  },
  {
   "cell_type": "markdown",
   "metadata": {},
   "source": [
    "\n",
    "R version 3.5.2 (2018-12-20)\n",
    "Platform: x86_64-redhat-linux-gnu (64-bit)\n",
    "Running under: CentOS Linux 7 (Core)\n",
    "\n",
    "Matrix products: default\n",
    "BLAS/LAPACK: /usr/lib64/R/lib/libRblas.so\n",
    "\n",
    "locale:\n",
    " [1] LC_CTYPE=en_US.utf8       LC_NUMERIC=C             \n",
    " [3] LC_TIME=en_US.utf8        LC_COLLATE=en_US.utf8    \n",
    " [5] LC_MONETARY=en_US.utf8    LC_MESSAGES=en_US.utf8   \n",
    " [7] LC_PAPER=en_US.utf8       LC_NAME=C                \n",
    " [9] LC_ADDRESS=C              LC_TELEPHONE=C           \n",
    "[11] LC_MEASUREMENT=en_US.utf8 LC_IDENTIFICATION=C      \n",
    "\n",
    "attached base packages:\n",
    "[1] stats     graphics  grDevices utils     datasets  methods   base     \n",
    "\n",
    "other attached packages:\n",
    " [1] stringr_1.4.0      readr_1.3.1        FSA_0.8.25         textshape_1.6.0   \n",
    " [5] radiant.data_1.0.6 dplyr_0.8.3        lubridate_1.7.4    ggplot2_3.2.1     \n",
    " [9] magrittr_1.5       tidyr_0.8.2        ExOutBench_0.1.0  \n",
    "\n",
    "loaded via a namespace (and not attached):\n",
    " [1] httr_1.4.1        shinyFiles_0.7.3  jsonlite_1.6      viridisLite_0.3.0\n",
    " [5] carData_3.0-2     modelr_0.1.5      shiny_1.4.0       assertthat_0.2.1 \n",
    " [9] cellranger_1.1.0  pillar_1.4.2      backports_1.1.5   lattice_0.20-38  \n",
    "[13] glue_1.3.1        uuid_0.1-2        digest_0.6.22     promises_1.1.0   \n",
    "[17] rvest_0.3.4       colorspace_1.4-1  plyr_1.8.4        htmltools_0.4.0  \n",
    "[21] httpuv_1.5.2      psych_1.8.12      pkgconfig_2.0.3   broom_0.5.2      \n",
    "[25] haven_2.1.1       purrr_0.3.3       xtable_1.8-4      scales_1.0.0     \n",
    "[29] openxlsx_4.1.0.1  later_1.0.0       rio_0.5.16        tibble_2.1.3     \n",
    "[33] generics_0.0.2    car_3.0-3         withr_2.1.2       repr_1.0.1       \n",
    "[37] tidyverse_1.2.1   lazyeval_0.2.2    mnormt_1.5-5      crayon_1.3.4     \n",
    "[41] readxl_1.3.1      mime_0.7          evaluate_0.14     fs_1.3.1         \n",
    "[45] nlme_3.1-137      forcats_0.4.0     xml2_1.2.2        foreign_0.8-71   \n",
    "[49] tools_3.5.2       data.table_1.12.6 hms_0.5.1         plotly_4.9.0     \n",
    "[53] munsell_0.5.0     writexl_1.1       zip_2.0.4         shinyAce_0.4.1   \n",
    "[57] compiler_3.5.2    rlang_0.4.1       grid_3.5.2        rstudioapi_0.10  \n",
    "[61] pbdZMQ_0.3-3      IRkernel_1.0.1    htmlwidgets_1.5.1 rmarkdown_1.16   \n",
    "[65] base64enc_0.1-3   gtable_0.3.0      abind_1.4-5       curl_4.2         \n",
    "[69] markdown_1.1      R6_2.4.0          gridExtra_2.3     knitr_1.25       \n",
    "[73] fastmap_1.0.1     zeallot_0.1.0     stringi_1.4.3     parallel_3.5.2   \n",
    "[77] IRdisplay_0.7.0   Rcpp_1.0.2        import_1.1.0      vctrs_0.2.0      \n",
    "[81] tidyselect_0.2.5  xfun_0.10        "
   ]
  },
  {
   "cell_type": "code",
   "execution_count": 2,
   "metadata": {},
   "outputs": [
    {
     "ename": "ERROR",
     "evalue": "Error: 'combined_filtered_scores_phaser/combined.fdr.no.global.outliers.ad.scores.in.WHLBLD.tsv' does not exist in current working directory ('/home/ydong/BencePipeline').\n",
     "output_type": "error",
     "traceback": [
      "Error: 'combined_filtered_scores_phaser/combined.fdr.no.global.outliers.ad.scores.in.WHLBLD.tsv' does not exist in current working directory ('/home/ydong/BencePipeline').\nTraceback:\n",
      "1. read_tsv(paste0(\"combined_filtered_scores_phaser/combined.fdr.no.global.outliers.ad.scores.in.\", \n .     tissue, \".tsv\"), progress = F)",
      "2. read_delimited(file, tokenizer, col_names = col_names, col_types = col_types, \n .     locale = locale, skip = skip, skip_empty_rows = skip_empty_rows, \n .     comment = comment, n_max = n_max, guess_max = guess_max, \n .     progress = progress)",
      "3. standardise_path(file)",
      "4. check_path(path)",
      "5. stop(\"'\", path, \"' does not exist\", if (!is_absolute_path(path)) paste0(\" in current working directory ('\", \n .     getwd(), \"')\"), \".\", call. = FALSE)"
     ]
    }
   ],
   "source": [
    "\n",
    "#v8_scores <- read_tsv(\"/home/bkotis/Documents/Jonah_pipeline/filter_output_gold/combined.fdr.no.global.outliers.ad.scores.in.ADPSBQ.tsv\", progress = F)\n",
    "v8_scores <- read_tsv(paste0(\"combined_filtered_scores_phaser/combined.fdr.no.global.outliers.ad.scores.in.\", tissue,\".tsv\"), progress = F)\n",
    "\n",
    "rare.variants <- read_tsv(\n",
    "  \"all_rare_variants_SNPs_10kb_genebody_w_consdetail_no_NA.tsv\", \n",
    "  progress = F)\n",
    "notify_self(paste0(\"*\", tissue ,\" [S03]: \", \"Finished reading in rare var and filtered scores matrix\", \"*\"))"
   ]
  },
  {
   "cell_type": "code",
   "execution_count": null,
   "metadata": {},
   "outputs": [],
   "source": []
  },
  {
   "cell_type": "code",
   "execution_count": null,
   "metadata": {},
   "outputs": [],
   "source": [
    "v8_scores %<>% \n",
    "  gather(SampleName, outlier.score, -GeneID) %>%\n",
    "  filter(complete.cases(.)) "
   ]
  },
  {
   "cell_type": "code",
   "execution_count": 12,
   "metadata": {},
   "outputs": [
    {
     "name": "stderr",
     "output_type": "stream",
     "text": [
      "Warning message in if (!(c(\"SampleName\", \"GeneID\", \"chr\", \"start\", \"consdetail\") %in% :\n",
      "“the condition has length > 1 and only the first element will be used”"
     ]
    },
    {
     "name": "stdout",
     "output_type": "stream",
     "text": [
      "Only considering genes with at least one outlier at 0.05 \n",
      "Checking to only include individuals that have genotype data!!\n",
      "Combining outlier calls with rare variant information\n"
     ]
    },
    {
     "name": "stderr",
     "output_type": "stream",
     "text": [
      "Joining, by = c(\"GeneID\", \"SampleName\")\n"
     ]
    },
    {
     "name": "stdout",
     "output_type": "stream",
     "text": [
      "Calculating enrichment scores"
     ]
    },
    {
     "data": {
      "image/png": "[encoded data removed]",
      "text/plain": [
       "plot without title"
      ]
     },
     "metadata": {},
     "output_type": "display_data"
    }
   ],
   "source": [
    "\n",
    "enrichment.by.annotation.output.v8_phaser <- \n",
    "  enrichment_by_annotation(\n",
    "    v8_scores ,\n",
    "    rare.variants)\n",
    "notify_self(paste0(\"*\", tissue ,\" [S03]: \",  \"Enrichment by annotation for phaser\", \"*\"), show_plot = 'T')"
   ]
  },
  {
   "cell_type": "code",
   "execution_count": 13,
   "metadata": {},
   "outputs": [
    {
     "name": "stdout",
     "output_type": "stream",
     "text": [
      "Only considering genes with at least one outlier at 0.05 \n",
      "Checking to only include individuals that have genotype data!!\n"
     ]
    },
    {
     "name": "stderr",
     "output_type": "stream",
     "text": [
      "Joining, by = c(\"GeneID\", \"SampleName\")\n"
     ]
    },
    {
     "name": "stdout",
     "output_type": "stream",
     "text": [
      "Calculating enrichment scores"
     ]
    },
    {
     "data": {
      "image/png": "[encoded data removed]",
      "text/plain": [
       "plot without title"
      ]
     },
     "metadata": {},
     "output_type": "display_data"
    }
   ],
   "source": [
    "enrichment.by.significance.output.v8_phaser <- \n",
    "  enrichment_by_significance(\n",
    "    v8_scores ,\n",
    "    rare.variants)\n",
    "notify_self(paste0(\"*\",tissue ,\" [S03]: \",  \"Enrichment by significance for phaser\", \"*\"), show_plot = 'T')"
   ]
  },
  {
   "cell_type": "markdown",
   "metadata": {},
   "source": [
    "## Lets see how Jonah's stuff compares to this for the same tissue"
   ]
  },
  {
   "cell_type": "code",
   "execution_count": 15,
   "metadata": {},
   "outputs": [
    {
     "name": "stderr",
     "output_type": "stream",
     "text": [
      "Parsed with column specification:\n",
      "cols(\n",
      "  .default = col_double(),\n",
      "  GeneID = \u001b[31mcol_character()\u001b[39m\n",
      ")\n",
      "See spec(...) for full column specifications.\n"
     ]
    }
   ],
   "source": [
    "v8_scores <- read_tsv(paste0(\"combined_filtered_scores_Jonah/combined.fdr.no.global.outliers.ad.scores.in.\" ,tissue, \".tsv\"), progress = F)\n",
    "v8_scores %<>% \n",
    "  gather(SampleName, outlier.score, -GeneID) %>%\n",
    "  filter(complete.cases(.)) \n",
    "#rare.variants <- read_tsv(\n",
    "#  \"all_rare_variants_SNPs_10kb_genebody_w_consdetail_no_NA.tsv\", \n",
    "#  progress = F)\n",
    "notify_self(paste0(\"*\",tissue ,\" [S03]: \", \"Now reading in var level AE data files\",\"*\"))"
   ]
  },
  {
   "cell_type": "code",
   "execution_count": 16,
   "metadata": {},
   "outputs": [
    {
     "name": "stderr",
     "output_type": "stream",
     "text": [
      "Warning message in if (!(c(\"SampleName\", \"GeneID\", \"chr\", \"start\", \"consdetail\") %in% :\n",
      "“the condition has length > 1 and only the first element will be used”"
     ]
    },
    {
     "name": "stdout",
     "output_type": "stream",
     "text": [
      "Only considering genes with at least one outlier at 0.05 \n",
      "Checking to only include individuals that have genotype data!!\n",
      "Combining outlier calls with rare variant information\n"
     ]
    },
    {
     "name": "stderr",
     "output_type": "stream",
     "text": [
      "Joining, by = c(\"GeneID\", \"SampleName\")\n"
     ]
    },
    {
     "name": "stdout",
     "output_type": "stream",
     "text": [
      "Calculating enrichment scores"
     ]
    },
    {
     "data": {
      "image/png": "[encoded data removed]",
      "text/plain": [
       "plot without title"
      ]
     },
     "metadata": {},
     "output_type": "display_data"
    }
   ],
   "source": [
    "enrichment.by.annotation.output.v8_Jonah <- \n",
    "  enrichment_by_annotation(\n",
    "    v8_scores ,\n",
    "    rare.variants)\n",
    "notify_self(paste0(\"*\",tissue ,\" [S03]: \",  \"Enrichment by annotation for var level AE data\",\"*\"), show_plot = 'T')"
   ]
  },
  {
   "cell_type": "code",
   "execution_count": 17,
   "metadata": {},
   "outputs": [
    {
     "name": "stdout",
     "output_type": "stream",
     "text": [
      "Only considering genes with at least one outlier at 0.05 \n",
      "Checking to only include individuals that have genotype data!!\n"
     ]
    },
    {
     "name": "stderr",
     "output_type": "stream",
     "text": [
      "Joining, by = c(\"GeneID\", \"SampleName\")\n"
     ]
    },
    {
     "name": "stdout",
     "output_type": "stream",
     "text": [
      "Calculating enrichment scores"
     ]
    },
    {
     "data": {
      "image/png": "[encoded data removed]",
      "text/plain": [
       "plot without title"
      ]
     },
     "metadata": {},
     "output_type": "display_data"
    }
   ],
   "source": [
    "enrichment.by.significance.output.v8_Jonah <- \n",
    "  enrichment_by_significance(\n",
    "    v8_scores ,\n",
    "    rare.variants)\n",
    "notify_self(paste0(\"*\",tissue ,\" [S03]: \",  \"Enrichment by significance for var level AE data\",\"*\"), show_plot = 'T')"
   ]
  },
  {
   "cell_type": "markdown",
   "metadata": {},
   "source": [
    "## Blue is phaser, red is Jonah's V8 AE"
   ]
  },
  {
   "cell_type": "code",
   "execution_count": 166,
   "metadata": {},
   "outputs": [],
   "source": [
    "full_enrichment_plt <- list(`Phaser` = enrichment.by.significance.output.v8_phaser, `variant_level_AE` = enrichment.by.significance.output.v8_Jonah) %>%\n",
    "  bind_rows(.id = \"color_code\")\n",
    "full_enrichment_plt$sig <- factor(full_enrichment_plt$sig)"
   ]
  },
  {
   "cell_type": "code",
   "execution_count": 167,
   "metadata": {},
   "outputs": [
    {
     "data": {
      "text/html": [
       "<table>\n",
       "<caption>A data.frame: 12 × 9</caption>\n",
       "<thead>\n",
       "\t<tr><th scope=col>color_code</th><th scope=col>ratio</th><th scope=col>lower.q</th><th scope=col>upper.q</th><th scope=col>n.outliers.w.var</th><th scope=col>n.outliers</th><th scope=col>n.non.outliers.w.var</th><th scope=col>n.non.outliers</th><th scope=col>sig</th></tr>\n",
       "\t<tr><th scope=col>&lt;chr&gt;</th><th scope=col>&lt;dbl&gt;</th><th scope=col>&lt;dbl&gt;</th><th scope=col>&lt;dbl&gt;</th><th scope=col>&lt;int&gt;</th><th scope=col>&lt;int&gt;</th><th scope=col>&lt;int&gt;</th><th scope=col>&lt;int&gt;</th><th scope=col>&lt;fct&gt;</th></tr>\n",
       "</thead>\n",
       "<tbody>\n",
       "\t<tr><td>Phaser          </td><td>1.306259</td><td>1.266565</td><td>1.347197</td><td> 865</td><td>1099</td><td>230169</td><td>381995</td><td>0.05 </td></tr>\n",
       "\t<tr><td>Phaser          </td><td>1.349984</td><td>1.304422</td><td>1.397137</td><td> 611</td><td> 751</td><td>230423</td><td>382343</td><td>0.01 </td></tr>\n",
       "\t<tr><td>Phaser          </td><td>1.387908</td><td>1.335761</td><td>1.442092</td><td> 430</td><td> 514</td><td>230604</td><td>382580</td><td>0.001</td></tr>\n",
       "\t<tr><td>Phaser          </td><td>1.415547</td><td>1.359680</td><td>1.473709</td><td> 349</td><td> 409</td><td>230685</td><td>382685</td><td>1e-04</td></tr>\n",
       "\t<tr><td>Phaser          </td><td>1.439624</td><td>1.380428</td><td>1.501358</td><td> 289</td><td> 333</td><td>230745</td><td>382761</td><td>1e-05</td></tr>\n",
       "\t<tr><td>Phaser          </td><td>1.427209</td><td>1.358682</td><td>1.499192</td><td> 222</td><td> 258</td><td>230812</td><td>382836</td><td>1e-07</td></tr>\n",
       "\t<tr><td>variant_level_AE</td><td>1.215748</td><td>1.186803</td><td>1.245398</td><td>1977</td><td>2811</td><td>395674</td><td>683967</td><td>0.05 </td></tr>\n",
       "\t<tr><td>variant_level_AE</td><td>1.321966</td><td>1.284797</td><td>1.360210</td><td>1116</td><td>1459</td><td>396535</td><td>685319</td><td>0.01 </td></tr>\n",
       "\t<tr><td>variant_level_AE</td><td>1.379251</td><td>1.334401</td><td>1.425609</td><td> 712</td><td> 892</td><td>396939</td><td>685886</td><td>0.001</td></tr>\n",
       "\t<tr><td>variant_level_AE</td><td>1.431166</td><td>1.382373</td><td>1.481681</td><td> 550</td><td> 664</td><td>397101</td><td>686114</td><td>1e-04</td></tr>\n",
       "\t<tr><td>variant_level_AE</td><td>1.445321</td><td>1.391063</td><td>1.501696</td><td> 430</td><td> 514</td><td>397221</td><td>686264</td><td>1e-05</td></tr>\n",
       "\t<tr><td>variant_level_AE</td><td>1.498146</td><td>1.439435</td><td>1.559252</td><td> 320</td><td> 369</td><td>397331</td><td>686409</td><td>1e-07</td></tr>\n",
       "</tbody>\n",
       "</table>\n"
      ],
      "text/latex": [
       "A data.frame: 12 × 9\n",
       "\\begin{tabular}{r|lllllllll}\n",
       " color\\_code & ratio & lower.q & upper.q & n.outliers.w.var & n.outliers & n.non.outliers.w.var & n.non.outliers & sig\\\\\n",
       " <chr> & <dbl> & <dbl> & <dbl> & <int> & <int> & <int> & <int> & <fct>\\\\\n",
       "\\hline\n",
       "\t Phaser           & 1.306259 & 1.266565 & 1.347197 &  865 & 1099 & 230169 & 381995 & 0.05 \\\\\n",
       "\t Phaser           & 1.349984 & 1.304422 & 1.397137 &  611 &  751 & 230423 & 382343 & 0.01 \\\\\n",
       "\t Phaser           & 1.387908 & 1.335761 & 1.442092 &  430 &  514 & 230604 & 382580 & 0.001\\\\\n",
       "\t Phaser           & 1.415547 & 1.359680 & 1.473709 &  349 &  409 & 230685 & 382685 & 1e-04\\\\\n",
       "\t Phaser           & 1.439624 & 1.380428 & 1.501358 &  289 &  333 & 230745 & 382761 & 1e-05\\\\\n",
       "\t Phaser           & 1.427209 & 1.358682 & 1.499192 &  222 &  258 & 230812 & 382836 & 1e-07\\\\\n",
       "\t variant\\_level\\_AE & 1.215748 & 1.186803 & 1.245398 & 1977 & 2811 & 395674 & 683967 & 0.05 \\\\\n",
       "\t variant\\_level\\_AE & 1.321966 & 1.284797 & 1.360210 & 1116 & 1459 & 396535 & 685319 & 0.01 \\\\\n",
       "\t variant\\_level\\_AE & 1.379251 & 1.334401 & 1.425609 &  712 &  892 & 396939 & 685886 & 0.001\\\\\n",
       "\t variant\\_level\\_AE & 1.431166 & 1.382373 & 1.481681 &  550 &  664 & 397101 & 686114 & 1e-04\\\\\n",
       "\t variant\\_level\\_AE & 1.445321 & 1.391063 & 1.501696 &  430 &  514 & 397221 & 686264 & 1e-05\\\\\n",
       "\t variant\\_level\\_AE & 1.498146 & 1.439435 & 1.559252 &  320 &  369 & 397331 & 686409 & 1e-07\\\\\n",
       "\\end{tabular}\n"
      ],
      "text/markdown": [
       "\n",
       "A data.frame: 12 × 9\n",
       "\n",
       "| color_code &lt;chr&gt; | ratio &lt;dbl&gt; | lower.q &lt;dbl&gt; | upper.q &lt;dbl&gt; | n.outliers.w.var &lt;int&gt; | n.outliers &lt;int&gt; | n.non.outliers.w.var &lt;int&gt; | n.non.outliers &lt;int&gt; | sig &lt;fct&gt; |\n",
       "|---|---|---|---|---|---|---|---|---|\n",
       "| Phaser           | 1.306259 | 1.266565 | 1.347197 |  865 | 1099 | 230169 | 381995 | 0.05  |\n",
       "| Phaser           | 1.349984 | 1.304422 | 1.397137 |  611 |  751 | 230423 | 382343 | 0.01  |\n",
       "| Phaser           | 1.387908 | 1.335761 | 1.442092 |  430 |  514 | 230604 | 382580 | 0.001 |\n",
       "| Phaser           | 1.415547 | 1.359680 | 1.473709 |  349 |  409 | 230685 | 382685 | 1e-04 |\n",
       "| Phaser           | 1.439624 | 1.380428 | 1.501358 |  289 |  333 | 230745 | 382761 | 1e-05 |\n",
       "| Phaser           | 1.427209 | 1.358682 | 1.499192 |  222 |  258 | 230812 | 382836 | 1e-07 |\n",
       "| variant_level_AE | 1.215748 | 1.186803 | 1.245398 | 1977 | 2811 | 395674 | 683967 | 0.05  |\n",
       "| variant_level_AE | 1.321966 | 1.284797 | 1.360210 | 1116 | 1459 | 396535 | 685319 | 0.01  |\n",
       "| variant_level_AE | 1.379251 | 1.334401 | 1.425609 |  712 |  892 | 396939 | 685886 | 0.001 |\n",
       "| variant_level_AE | 1.431166 | 1.382373 | 1.481681 |  550 |  664 | 397101 | 686114 | 1e-04 |\n",
       "| variant_level_AE | 1.445321 | 1.391063 | 1.501696 |  430 |  514 | 397221 | 686264 | 1e-05 |\n",
       "| variant_level_AE | 1.498146 | 1.439435 | 1.559252 |  320 |  369 | 397331 | 686409 | 1e-07 |\n",
       "\n"
      ],
      "text/plain": [
       "   color_code       ratio    lower.q  upper.q  n.outliers.w.var n.outliers\n",
       "1  Phaser           1.306259 1.266565 1.347197  865             1099      \n",
       "2  Phaser           1.349984 1.304422 1.397137  611              751      \n",
       "3  Phaser           1.387908 1.335761 1.442092  430              514      \n",
       "4  Phaser           1.415547 1.359680 1.473709  349              409      \n",
       "5  Phaser           1.439624 1.380428 1.501358  289              333      \n",
       "6  Phaser           1.427209 1.358682 1.499192  222              258      \n",
       "7  variant_level_AE 1.215748 1.186803 1.245398 1977             2811      \n",
       "8  variant_level_AE 1.321966 1.284797 1.360210 1116             1459      \n",
       "9  variant_level_AE 1.379251 1.334401 1.425609  712              892      \n",
       "10 variant_level_AE 1.431166 1.382373 1.481681  550              664      \n",
       "11 variant_level_AE 1.445321 1.391063 1.501696  430              514      \n",
       "12 variant_level_AE 1.498146 1.439435 1.559252  320              369      \n",
       "   n.non.outliers.w.var n.non.outliers sig  \n",
       "1  230169               381995         0.05 \n",
       "2  230423               382343         0.01 \n",
       "3  230604               382580         0.001\n",
       "4  230685               382685         1e-04\n",
       "5  230745               382761         1e-05\n",
       "6  230812               382836         1e-07\n",
       "7  395674               683967         0.05 \n",
       "8  396535               685319         0.01 \n",
       "9  396939               685886         0.001\n",
       "10 397101               686114         1e-04\n",
       "11 397221               686264         1e-05\n",
       "12 397331               686409         1e-07"
      ]
     },
     "metadata": {},
     "output_type": "display_data"
    }
   ],
   "source": [
    "full_enrichment_plt"
   ]
  },
  {
   "cell_type": "code",
   "execution_count": 3,
   "metadata": {},
   "outputs": [
    {
     "ename": "ERROR",
     "evalue": "Error in eval(expr, envir, enclos): object 'full_enrichment_plt' not found\n",
     "output_type": "error",
     "traceback": [
      "Error in eval(expr, envir, enclos): object 'full_enrichment_plt' not found\nTraceback:\n"
     ]
    }
   ],
   "source": [
    "\n",
    "\n",
    "\n",
    "plt.tbl <- full_enrichment_plt\n",
    "plt.tbl <- plt.tbl %>%\n",
    "  arrange(desc(sig)) %>%\n",
    "  filter(n.outliers.w.var > 1) \n",
    "\n",
    "print(\n",
    "  ggplot(plt.tbl, aes(sig, ratio, color_code)) + \n",
    "    theme_linedraw() +\n",
    "    geom_pointrange(aes(ymin = lower.q, ymax = upper.q, color=plt.tbl$color_code),alpha = 0.70)  +\n",
    "    \n",
    "    geom_hline(yintercept = 1, color = \"red\") +\n",
    "    theme(axis.text.x = element_text(angle = 45, hjust = 1), title=element_text(color=\"black\", size=9.5, face=\"bold\"), \n",
    "    legend.position = \"bottom\", legend.title = element_text(color=\"black\", size=9, face=\"bold\")) + \n",
    "    scale_x_discrete(limits = rev(levels(plt.tbl$sig)))  + \n",
    "    labs(title=\"Phaser vs variant level AE data enrichment by significance\", color = \"Data type\") \n",
    ")\n",
    "notify_self(paste0(\"*\",tissue ,\" [S03]: \",  \"Enrichment by significance for phaser vs var level AE\",\"*\"), show_plot = 'T')\n",
    "ggsave(paste0(\"../plots/\",tissue,\"_annotation_enrichment.png\"))\n"
   ]
  },
  {
   "cell_type": "code",
   "execution_count": 169,
   "metadata": {},
   "outputs": [],
   "source": [
    "full_annotation_enrichment_plt <- list(`Phaser` = enrichment.by.annotation.output.v8_phaser, `variant_level_AE` = enrichment.by.annotation.output.v8_Jonah) %>%\n",
    "  bind_rows(.id = \"color_code\")\n",
    "full_annotation_enrichment_plt$anno <- factor(full_annotation_enrichment_plt$anno)"
   ]
  },
  {
   "cell_type": "code",
   "execution_count": 170,
   "metadata": {},
   "outputs": [],
   "source": [
    "full_annotation_enrichment_plt$anno <- as.character(full_annotation_enrichment_plt$anno)"
   ]
  },
  {
   "cell_type": "code",
   "execution_count": 171,
   "metadata": {},
   "outputs": [
    {
     "data": {
      "text/html": [
       "<table>\n",
       "<caption>A data.frame: 34 × 9</caption>\n",
       "<thead>\n",
       "\t<tr><th scope=col>color_code</th><th scope=col>ratio</th><th scope=col>lower.q</th><th scope=col>upper.q</th><th scope=col>n.outliers.w.var</th><th scope=col>n.outliers</th><th scope=col>n.non.outliers.w.var</th><th scope=col>n.non.outliers</th><th scope=col>anno</th></tr>\n",
       "\t<tr><th scope=col>&lt;chr&gt;</th><th scope=col>&lt;dbl&gt;</th><th scope=col>&lt;dbl&gt;</th><th scope=col>&lt;dbl&gt;</th><th scope=col>&lt;int&gt;</th><th scope=col>&lt;int&gt;</th><th scope=col>&lt;int&gt;</th><th scope=col>&lt;int&gt;</th><th scope=col>&lt;chr&gt;</th></tr>\n",
       "</thead>\n",
       "<tbody>\n",
       "\t<tr><td>Phaser          </td><td>  1.2108570</td><td>  1.0382829</td><td>  1.412115</td><td> 142</td><td>1099</td><td> 40762</td><td>381995</td><td>downstream     </td></tr>\n",
       "\t<tr><td>Phaser          </td><td>  1.0655243</td><td>  1.0062280</td><td>  1.128315</td><td> 568</td><td>1099</td><td>185287</td><td>381995</td><td>intron         </td></tr>\n",
       "\t<tr><td>Phaser          </td><td>  1.2139246</td><td>  1.0389432</td><td>  1.418377</td><td> 139</td><td>1099</td><td> 39800</td><td>381995</td><td>upstream       </td></tr>\n",
       "\t<tr><td>Phaser          </td><td>  3.1623560</td><td>  2.6578716</td><td>  3.762595</td><td> 115</td><td>1099</td><td> 12640</td><td>381995</td><td>missense       </td></tr>\n",
       "\t<tr><td>Phaser          </td><td>  2.4849628</td><td>  1.9574033</td><td>  3.154710</td><td>  64</td><td>1099</td><td>  8952</td><td>381995</td><td>synonymous     </td></tr>\n",
       "\t<tr><td>Phaser          </td><td>  2.4732077</td><td>  2.0755130</td><td>  2.947106</td><td> 113</td><td>1099</td><td> 15881</td><td>381995</td><td>3_prime_UTR    </td></tr>\n",
       "\t<tr><td>Phaser          </td><td> 12.8085029</td><td> 10.2179752</td><td> 16.055798</td><td>  73</td><td>1099</td><td>  1981</td><td>381995</td><td>splice         </td></tr>\n",
       "\t<tr><td>Phaser          </td><td>  0.9566999</td><td>  0.6122411</td><td>  1.494958</td><td>  19</td><td>1099</td><td>  6903</td><td>381995</td><td>non_coding     </td></tr>\n",
       "\t<tr><td>Phaser          </td><td>  2.1522239</td><td>  0.8067488</td><td>  5.741649</td><td>   4</td><td>1099</td><td>   646</td><td>381995</td><td>non_coding_exon</td></tr>\n",
       "\t<tr><td>Phaser          </td><td>  1.9374814</td><td>  1.0436080</td><td>  3.596977</td><td>  10</td><td>1099</td><td>  1794</td><td>381995</td><td>NMD            </td></tr>\n",
       "\t<tr><td>Phaser          </td><td>  4.2816748</td><td>  3.1398226</td><td>  5.838782</td><td>  39</td><td>1099</td><td>  3166</td><td>381995</td><td>5_prime_UTR    </td></tr>\n",
       "\t<tr><td>Phaser          </td><td>187.3343240</td><td>144.4099493</td><td>243.017528</td><td>  83</td><td>1099</td><td>   154</td><td>381995</td><td>stop_gained    </td></tr>\n",
       "\t<tr><td>Phaser          </td><td>216.2745931</td><td>135.4370408</td><td>345.361205</td><td>  28</td><td>1099</td><td>    45</td><td>381995</td><td>splice_donor   </td></tr>\n",
       "\t<tr><td>Phaser          </td><td> 20.4461275</td><td>  2.7232865</td><td>153.507217</td><td>   1</td><td>1099</td><td>    17</td><td>381995</td><td>start_lost     </td></tr>\n",
       "\t<tr><td>Phaser          </td><td> 59.1632625</td><td> 28.0228055</td><td>124.908680</td><td>   8</td><td>1099</td><td>    47</td><td>381995</td><td>splice_acceptor</td></tr>\n",
       "\t<tr><td>Phaser          </td><td>  0.0000000</td><td>  0.0000000</td><td>       NaN</td><td>   0</td><td>1099</td><td>     1</td><td>381995</td><td>stop_retained  </td></tr>\n",
       "\t<tr><td>Phaser          </td><td>  0.0000000</td><td>  0.0000000</td><td>       NaN</td><td>   0</td><td>1099</td><td>     9</td><td>381995</td><td>stop_lost      </td></tr>\n",
       "\t<tr><td>variant_level_AE</td><td>  1.0688823</td><td>  1.0288573</td><td>  1.110464</td><td>1364</td><td>2811</td><td>310498</td><td>683967</td><td>intron         </td></tr>\n",
       "\t<tr><td>variant_level_AE</td><td>  1.0834645</td><td>  0.9777632</td><td>  1.200593</td><td> 324</td><td>2811</td><td> 72762</td><td>683967</td><td>downstream     </td></tr>\n",
       "\t<tr><td>variant_level_AE</td><td>  1.6735669</td><td>  1.0543002</td><td>  2.656574</td><td>  18</td><td>2811</td><td>  2617</td><td>683967</td><td>NMD            </td></tr>\n",
       "\t<tr><td>variant_level_AE</td><td>  1.9576483</td><td>  1.7355657</td><td>  2.208149</td><td> 244</td><td>2811</td><td> 30327</td><td>683967</td><td>3_prime_UTR    </td></tr>\n",
       "\t<tr><td>variant_level_AE</td><td>  9.4993516</td><td>  7.9872979</td><td> 11.297648</td><td> 127</td><td>2811</td><td>  3253</td><td>683967</td><td>splice         </td></tr>\n",
       "\t<tr><td>variant_level_AE</td><td>  1.2478206</td><td>  1.1324407</td><td>  1.374956</td><td> 358</td><td>2811</td><td> 69808</td><td>683967</td><td>upstream       </td></tr>\n",
       "\t<tr><td>variant_level_AE</td><td>  2.1958079</td><td>  1.9165239</td><td>  2.515790</td><td> 195</td><td>2811</td><td> 21608</td><td>683967</td><td>missense       </td></tr>\n",
       "\t<tr><td>variant_level_AE</td><td>  2.1635238</td><td>  1.8373003</td><td>  2.547670</td><td> 138</td><td>2811</td><td> 15520</td><td>683967</td><td>synonymous     </td></tr>\n",
       "\t<tr><td>variant_level_AE</td><td>  3.7366273</td><td>  3.0583484</td><td>  4.565334</td><td>  94</td><td>2811</td><td>  6121</td><td>683967</td><td>5_prime_UTR    </td></tr>\n",
       "\t<tr><td>variant_level_AE</td><td>  1.3909016</td><td>  1.0866345</td><td>  1.780366</td><td>  62</td><td>2811</td><td> 10846</td><td>683967</td><td>non_coding     </td></tr>\n",
       "\t<tr><td>variant_level_AE</td><td>  1.7869134</td><td>  0.8011117</td><td>  3.985786</td><td>   6</td><td>2811</td><td>   817</td><td>683967</td><td>non_coding_exon</td></tr>\n",
       "\t<tr><td>variant_level_AE</td><td> 36.3161248</td><td> 18.7059682</td><td> 70.504820</td><td>  10</td><td>2811</td><td>    67</td><td>683967</td><td>splice_acceptor</td></tr>\n",
       "\t<tr><td>variant_level_AE</td><td>147.7743048</td><td>117.6792195</td><td>185.565856</td><td> 116</td><td>2811</td><td>   191</td><td>683967</td><td>stop_gained    </td></tr>\n",
       "\t<tr><td>variant_level_AE</td><td>111.1452758</td><td> 75.4667564</td><td>163.691577</td><td>  37</td><td>2811</td><td>    81</td><td>683967</td><td>splice_donor   </td></tr>\n",
       "\t<tr><td>variant_level_AE</td><td> 25.6124249</td><td>  5.9685281</td><td>109.909226</td><td>   2</td><td>2811</td><td>    19</td><td>683967</td><td>start_lost     </td></tr>\n",
       "\t<tr><td>variant_level_AE</td><td> 16.2212024</td><td>  2.1433689</td><td>122.763470</td><td>   1</td><td>2811</td><td>    15</td><td>683967</td><td>stop_lost      </td></tr>\n",
       "\t<tr><td>variant_level_AE</td><td> 27.0353374</td><td>  3.4262128</td><td>213.328681</td><td>   1</td><td>2811</td><td>     9</td><td>683967</td><td>stop_retained  </td></tr>\n",
       "</tbody>\n",
       "</table>\n"
      ],
      "text/latex": [
       "A data.frame: 34 × 9\n",
       "\\begin{tabular}{r|lllllllll}\n",
       " color\\_code & ratio & lower.q & upper.q & n.outliers.w.var & n.outliers & n.non.outliers.w.var & n.non.outliers & anno\\\\\n",
       " <chr> & <dbl> & <dbl> & <dbl> & <int> & <int> & <int> & <int> & <chr>\\\\\n",
       "\\hline\n",
       "\t Phaser           &   1.2108570 &   1.0382829 &   1.412115 &  142 & 1099 &  40762 & 381995 & downstream     \\\\\n",
       "\t Phaser           &   1.0655243 &   1.0062280 &   1.128315 &  568 & 1099 & 185287 & 381995 & intron         \\\\\n",
       "\t Phaser           &   1.2139246 &   1.0389432 &   1.418377 &  139 & 1099 &  39800 & 381995 & upstream       \\\\\n",
       "\t Phaser           &   3.1623560 &   2.6578716 &   3.762595 &  115 & 1099 &  12640 & 381995 & missense       \\\\\n",
       "\t Phaser           &   2.4849628 &   1.9574033 &   3.154710 &   64 & 1099 &   8952 & 381995 & synonymous     \\\\\n",
       "\t Phaser           &   2.4732077 &   2.0755130 &   2.947106 &  113 & 1099 &  15881 & 381995 & 3\\_prime\\_UTR    \\\\\n",
       "\t Phaser           &  12.8085029 &  10.2179752 &  16.055798 &   73 & 1099 &   1981 & 381995 & splice         \\\\\n",
       "\t Phaser           &   0.9566999 &   0.6122411 &   1.494958 &   19 & 1099 &   6903 & 381995 & non\\_coding     \\\\\n",
       "\t Phaser           &   2.1522239 &   0.8067488 &   5.741649 &    4 & 1099 &    646 & 381995 & non\\_coding\\_exon\\\\\n",
       "\t Phaser           &   1.9374814 &   1.0436080 &   3.596977 &   10 & 1099 &   1794 & 381995 & NMD            \\\\\n",
       "\t Phaser           &   4.2816748 &   3.1398226 &   5.838782 &   39 & 1099 &   3166 & 381995 & 5\\_prime\\_UTR    \\\\\n",
       "\t Phaser           & 187.3343240 & 144.4099493 & 243.017528 &   83 & 1099 &    154 & 381995 & stop\\_gained    \\\\\n",
       "\t Phaser           & 216.2745931 & 135.4370408 & 345.361205 &   28 & 1099 &     45 & 381995 & splice\\_donor   \\\\\n",
       "\t Phaser           &  20.4461275 &   2.7232865 & 153.507217 &    1 & 1099 &     17 & 381995 & start\\_lost     \\\\\n",
       "\t Phaser           &  59.1632625 &  28.0228055 & 124.908680 &    8 & 1099 &     47 & 381995 & splice\\_acceptor\\\\\n",
       "\t Phaser           &   0.0000000 &   0.0000000 &        NaN &    0 & 1099 &      1 & 381995 & stop\\_retained  \\\\\n",
       "\t Phaser           &   0.0000000 &   0.0000000 &        NaN &    0 & 1099 &      9 & 381995 & stop\\_lost      \\\\\n",
       "\t variant\\_level\\_AE &   1.0688823 &   1.0288573 &   1.110464 & 1364 & 2811 & 310498 & 683967 & intron         \\\\\n",
       "\t variant\\_level\\_AE &   1.0834645 &   0.9777632 &   1.200593 &  324 & 2811 &  72762 & 683967 & downstream     \\\\\n",
       "\t variant\\_level\\_AE &   1.6735669 &   1.0543002 &   2.656574 &   18 & 2811 &   2617 & 683967 & NMD            \\\\\n",
       "\t variant\\_level\\_AE &   1.9576483 &   1.7355657 &   2.208149 &  244 & 2811 &  30327 & 683967 & 3\\_prime\\_UTR    \\\\\n",
       "\t variant\\_level\\_AE &   9.4993516 &   7.9872979 &  11.297648 &  127 & 2811 &   3253 & 683967 & splice         \\\\\n",
       "\t variant\\_level\\_AE &   1.2478206 &   1.1324407 &   1.374956 &  358 & 2811 &  69808 & 683967 & upstream       \\\\\n",
       "\t variant\\_level\\_AE &   2.1958079 &   1.9165239 &   2.515790 &  195 & 2811 &  21608 & 683967 & missense       \\\\\n",
       "\t variant\\_level\\_AE &   2.1635238 &   1.8373003 &   2.547670 &  138 & 2811 &  15520 & 683967 & synonymous     \\\\\n",
       "\t variant\\_level\\_AE &   3.7366273 &   3.0583484 &   4.565334 &   94 & 2811 &   6121 & 683967 & 5\\_prime\\_UTR    \\\\\n",
       "\t variant\\_level\\_AE &   1.3909016 &   1.0866345 &   1.780366 &   62 & 2811 &  10846 & 683967 & non\\_coding     \\\\\n",
       "\t variant\\_level\\_AE &   1.7869134 &   0.8011117 &   3.985786 &    6 & 2811 &    817 & 683967 & non\\_coding\\_exon\\\\\n",
       "\t variant\\_level\\_AE &  36.3161248 &  18.7059682 &  70.504820 &   10 & 2811 &     67 & 683967 & splice\\_acceptor\\\\\n",
       "\t variant\\_level\\_AE & 147.7743048 & 117.6792195 & 185.565856 &  116 & 2811 &    191 & 683967 & stop\\_gained    \\\\\n",
       "\t variant\\_level\\_AE & 111.1452758 &  75.4667564 & 163.691577 &   37 & 2811 &     81 & 683967 & splice\\_donor   \\\\\n",
       "\t variant\\_level\\_AE &  25.6124249 &   5.9685281 & 109.909226 &    2 & 2811 &     19 & 683967 & start\\_lost     \\\\\n",
       "\t variant\\_level\\_AE &  16.2212024 &   2.1433689 & 122.763470 &    1 & 2811 &     15 & 683967 & stop\\_lost      \\\\\n",
       "\t variant\\_level\\_AE &  27.0353374 &   3.4262128 & 213.328681 &    1 & 2811 &      9 & 683967 & stop\\_retained  \\\\\n",
       "\\end{tabular}\n"
      ],
      "text/markdown": [
       "\n",
       "A data.frame: 34 × 9\n",
       "\n",
       "| color_code &lt;chr&gt; | ratio &lt;dbl&gt; | lower.q &lt;dbl&gt; | upper.q &lt;dbl&gt; | n.outliers.w.var &lt;int&gt; | n.outliers &lt;int&gt; | n.non.outliers.w.var &lt;int&gt; | n.non.outliers &lt;int&gt; | anno &lt;chr&gt; |\n",
       "|---|---|---|---|---|---|---|---|---|\n",
       "| Phaser           |   1.2108570 |   1.0382829 |   1.412115 |  142 | 1099 |  40762 | 381995 | downstream      |\n",
       "| Phaser           |   1.0655243 |   1.0062280 |   1.128315 |  568 | 1099 | 185287 | 381995 | intron          |\n",
       "| Phaser           |   1.2139246 |   1.0389432 |   1.418377 |  139 | 1099 |  39800 | 381995 | upstream        |\n",
       "| Phaser           |   3.1623560 |   2.6578716 |   3.762595 |  115 | 1099 |  12640 | 381995 | missense        |\n",
       "| Phaser           |   2.4849628 |   1.9574033 |   3.154710 |   64 | 1099 |   8952 | 381995 | synonymous      |\n",
       "| Phaser           |   2.4732077 |   2.0755130 |   2.947106 |  113 | 1099 |  15881 | 381995 | 3_prime_UTR     |\n",
       "| Phaser           |  12.8085029 |  10.2179752 |  16.055798 |   73 | 1099 |   1981 | 381995 | splice          |\n",
       "| Phaser           |   0.9566999 |   0.6122411 |   1.494958 |   19 | 1099 |   6903 | 381995 | non_coding      |\n",
       "| Phaser           |   2.1522239 |   0.8067488 |   5.741649 |    4 | 1099 |    646 | 381995 | non_coding_exon |\n",
       "| Phaser           |   1.9374814 |   1.0436080 |   3.596977 |   10 | 1099 |   1794 | 381995 | NMD             |\n",
       "| Phaser           |   4.2816748 |   3.1398226 |   5.838782 |   39 | 1099 |   3166 | 381995 | 5_prime_UTR     |\n",
       "| Phaser           | 187.3343240 | 144.4099493 | 243.017528 |   83 | 1099 |    154 | 381995 | stop_gained     |\n",
       "| Phaser           | 216.2745931 | 135.4370408 | 345.361205 |   28 | 1099 |     45 | 381995 | splice_donor    |\n",
       "| Phaser           |  20.4461275 |   2.7232865 | 153.507217 |    1 | 1099 |     17 | 381995 | start_lost      |\n",
       "| Phaser           |  59.1632625 |  28.0228055 | 124.908680 |    8 | 1099 |     47 | 381995 | splice_acceptor |\n",
       "| Phaser           |   0.0000000 |   0.0000000 |        NaN |    0 | 1099 |      1 | 381995 | stop_retained   |\n",
       "| Phaser           |   0.0000000 |   0.0000000 |        NaN |    0 | 1099 |      9 | 381995 | stop_lost       |\n",
       "| variant_level_AE |   1.0688823 |   1.0288573 |   1.110464 | 1364 | 2811 | 310498 | 683967 | intron          |\n",
       "| variant_level_AE |   1.0834645 |   0.9777632 |   1.200593 |  324 | 2811 |  72762 | 683967 | downstream      |\n",
       "| variant_level_AE |   1.6735669 |   1.0543002 |   2.656574 |   18 | 2811 |   2617 | 683967 | NMD             |\n",
       "| variant_level_AE |   1.9576483 |   1.7355657 |   2.208149 |  244 | 2811 |  30327 | 683967 | 3_prime_UTR     |\n",
       "| variant_level_AE |   9.4993516 |   7.9872979 |  11.297648 |  127 | 2811 |   3253 | 683967 | splice          |\n",
       "| variant_level_AE |   1.2478206 |   1.1324407 |   1.374956 |  358 | 2811 |  69808 | 683967 | upstream        |\n",
       "| variant_level_AE |   2.1958079 |   1.9165239 |   2.515790 |  195 | 2811 |  21608 | 683967 | missense        |\n",
       "| variant_level_AE |   2.1635238 |   1.8373003 |   2.547670 |  138 | 2811 |  15520 | 683967 | synonymous      |\n",
       "| variant_level_AE |   3.7366273 |   3.0583484 |   4.565334 |   94 | 2811 |   6121 | 683967 | 5_prime_UTR     |\n",
       "| variant_level_AE |   1.3909016 |   1.0866345 |   1.780366 |   62 | 2811 |  10846 | 683967 | non_coding      |\n",
       "| variant_level_AE |   1.7869134 |   0.8011117 |   3.985786 |    6 | 2811 |    817 | 683967 | non_coding_exon |\n",
       "| variant_level_AE |  36.3161248 |  18.7059682 |  70.504820 |   10 | 2811 |     67 | 683967 | splice_acceptor |\n",
       "| variant_level_AE | 147.7743048 | 117.6792195 | 185.565856 |  116 | 2811 |    191 | 683967 | stop_gained     |\n",
       "| variant_level_AE | 111.1452758 |  75.4667564 | 163.691577 |   37 | 2811 |     81 | 683967 | splice_donor    |\n",
       "| variant_level_AE |  25.6124249 |   5.9685281 | 109.909226 |    2 | 2811 |     19 | 683967 | start_lost      |\n",
       "| variant_level_AE |  16.2212024 |   2.1433689 | 122.763470 |    1 | 2811 |     15 | 683967 | stop_lost       |\n",
       "| variant_level_AE |  27.0353374 |   3.4262128 | 213.328681 |    1 | 2811 |      9 | 683967 | stop_retained   |\n",
       "\n"
      ],
      "text/plain": [
       "   color_code       ratio       lower.q     upper.q    n.outliers.w.var\n",
       "1  Phaser             1.2108570   1.0382829   1.412115  142            \n",
       "2  Phaser             1.0655243   1.0062280   1.128315  568            \n",
       "3  Phaser             1.2139246   1.0389432   1.418377  139            \n",
       "4  Phaser             3.1623560   2.6578716   3.762595  115            \n",
       "5  Phaser             2.4849628   1.9574033   3.154710   64            \n",
       "6  Phaser             2.4732077   2.0755130   2.947106  113            \n",
       "7  Phaser            12.8085029  10.2179752  16.055798   73            \n",
       "8  Phaser             0.9566999   0.6122411   1.494958   19            \n",
       "9  Phaser             2.1522239   0.8067488   5.741649    4            \n",
       "10 Phaser             1.9374814   1.0436080   3.596977   10            \n",
       "11 Phaser             4.2816748   3.1398226   5.838782   39            \n",
       "12 Phaser           187.3343240 144.4099493 243.017528   83            \n",
       "13 Phaser           216.2745931 135.4370408 345.361205   28            \n",
       "14 Phaser            20.4461275   2.7232865 153.507217    1            \n",
       "15 Phaser            59.1632625  28.0228055 124.908680    8            \n",
       "16 Phaser             0.0000000   0.0000000        NaN    0            \n",
       "17 Phaser             0.0000000   0.0000000        NaN    0            \n",
       "18 variant_level_AE   1.0688823   1.0288573   1.110464 1364            \n",
       "19 variant_level_AE   1.0834645   0.9777632   1.200593  324            \n",
       "20 variant_level_AE   1.6735669   1.0543002   2.656574   18            \n",
       "21 variant_level_AE   1.9576483   1.7355657   2.208149  244            \n",
       "22 variant_level_AE   9.4993516   7.9872979  11.297648  127            \n",
       "23 variant_level_AE   1.2478206   1.1324407   1.374956  358            \n",
       "24 variant_level_AE   2.1958079   1.9165239   2.515790  195            \n",
       "25 variant_level_AE   2.1635238   1.8373003   2.547670  138            \n",
       "26 variant_level_AE   3.7366273   3.0583484   4.565334   94            \n",
       "27 variant_level_AE   1.3909016   1.0866345   1.780366   62            \n",
       "28 variant_level_AE   1.7869134   0.8011117   3.985786    6            \n",
       "29 variant_level_AE  36.3161248  18.7059682  70.504820   10            \n",
       "30 variant_level_AE 147.7743048 117.6792195 185.565856  116            \n",
       "31 variant_level_AE 111.1452758  75.4667564 163.691577   37            \n",
       "32 variant_level_AE  25.6124249   5.9685281 109.909226    2            \n",
       "33 variant_level_AE  16.2212024   2.1433689 122.763470    1            \n",
       "34 variant_level_AE  27.0353374   3.4262128 213.328681    1            \n",
       "   n.outliers n.non.outliers.w.var n.non.outliers anno           \n",
       "1  1099        40762               381995         downstream     \n",
       "2  1099       185287               381995         intron         \n",
       "3  1099        39800               381995         upstream       \n",
       "4  1099        12640               381995         missense       \n",
       "5  1099         8952               381995         synonymous     \n",
       "6  1099        15881               381995         3_prime_UTR    \n",
       "7  1099         1981               381995         splice         \n",
       "8  1099         6903               381995         non_coding     \n",
       "9  1099          646               381995         non_coding_exon\n",
       "10 1099         1794               381995         NMD            \n",
       "11 1099         3166               381995         5_prime_UTR    \n",
       "12 1099          154               381995         stop_gained    \n",
       "13 1099           45               381995         splice_donor   \n",
       "14 1099           17               381995         start_lost     \n",
       "15 1099           47               381995         splice_acceptor\n",
       "16 1099            1               381995         stop_retained  \n",
       "17 1099            9               381995         stop_lost      \n",
       "18 2811       310498               683967         intron         \n",
       "19 2811        72762               683967         downstream     \n",
       "20 2811         2617               683967         NMD            \n",
       "21 2811        30327               683967         3_prime_UTR    \n",
       "22 2811         3253               683967         splice         \n",
       "23 2811        69808               683967         upstream       \n",
       "24 2811        21608               683967         missense       \n",
       "25 2811        15520               683967         synonymous     \n",
       "26 2811         6121               683967         5_prime_UTR    \n",
       "27 2811        10846               683967         non_coding     \n",
       "28 2811          817               683967         non_coding_exon\n",
       "29 2811           67               683967         splice_acceptor\n",
       "30 2811          191               683967         stop_gained    \n",
       "31 2811           81               683967         splice_donor   \n",
       "32 2811           19               683967         start_lost     \n",
       "33 2811           15               683967         stop_lost      \n",
       "34 2811            9               683967         stop_retained  "
      ]
     },
     "metadata": {},
     "output_type": "display_data"
    }
   ],
   "source": [
    "full_annotation_enrichment_plt"
   ]
  },
  {
   "cell_type": "code",
   "execution_count": 172,
   "metadata": {},
   "outputs": [],
   "source": [
    "#sort new dataframe based on y value\n",
    "#mtcars[order(mpg, cyl),]\n",
    "full_annotation_enrichment_plt <- full_annotation_enrichment_plt[order(full_annotation_enrichment_plt$ratio),]"
   ]
  },
  {
   "cell_type": "code",
   "execution_count": 1,
   "metadata": {},
   "outputs": [
    {
     "ename": "ERROR",
     "evalue": "Error in eval(expr, envir, enclos): object 'full_annotation_enrichment_plt' not found\n",
     "output_type": "error",
     "traceback": [
      "Error in eval(expr, envir, enclos): object 'full_annotation_enrichment_plt' not found\nTraceback:\n"
     ]
    }
   ],
   "source": [
    "  plt.tbl <- full_annotation_enrichment_plt\n",
    "    plt.tbl <- plt.tbl %>%\n",
    "      arrange(desc(ratio)) %>%\n",
    "      filter(n.outliers.w.var > 1) %>%\n",
    "      group_by(anno) %>%\n",
    "      filter(n() > 1)\n",
    "\n",
    "    print(\n",
    "      ggplot(plt.tbl, aes(reorder(anno, -ratio), ratio)) +\n",
    "        theme_linedraw() +\n",
    "        geom_pointrange(aes(ymin = lower.q, ymax = upper.q, color=plt.tbl$color_code),alpha = 0.70)  +\n",
    "        geom_hline(yintercept = 1, color = \"red\") +\n",
    "        scale_y_continuous(trans='log2') +\n",
    "        theme(axis.text.x = element_text(angle = 45, hjust = 1), title=element_text(color=\"black\", size=9.5, face=\"bold\"),\n",
    "        legend.position = \"bottom\", legend.title = element_text(color=\"black\", size=9, face=\"bold\")) + \n",
    "        labs(title=\"Phaser vs variant level AE data enrichment by annotation\", color = \"Data type\" ) + xlab(\"variant annotation\") \n",
    "\n",
    "    )\n",
    "ggsave(paste0(\"../plots/\",tissue,\"_annotation_enrichment.png\"))\n",
    "\n",
    "notify_self(paste0(\"*\",tissue ,\" [S03]: \",  \"Enrichment by annotation for phaser vs var level AE\",\"*\"), show_plot = 'T')\n"
   ]
  }
 ],
 "metadata": {
  "kernelspec": {
   "display_name": "R",
   "language": "R",
   "name": "ir"
  },
  "language_info": {
   "codemirror_mode": "r",
   "file_extension": ".r",
   "mimetype": "text/x-r-source",
   "name": "R",
   "pygments_lexer": "r",
   "version": "3.5.1"
  },
  "toc": {
   "base_numbering": 1,
   "nav_menu": {},
   "number_sections": false,
   "sideBar": false,
   "skip_h1_title": false,
   "title_cell": "Table of Contents",
   "title_sidebar": "Contents",
   "toc_cell": false,
   "toc_position": {},
   "toc_section_display": false,
   "toc_window_display": false
  }
 },
 "nbformat": 4,
 "nbformat_minor": 2
}
