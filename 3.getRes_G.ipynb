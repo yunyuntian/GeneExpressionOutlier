{
 "cells": [
  {
   "cell_type": "markdown",
   "metadata": {},
   "source": [
    "This notebook is for getting predicion residuals from models"
   ]
  },
  {
   "cell_type": "code",
   "execution_count": 69,
   "metadata": {},
   "outputs": [],
   "source": [
    "import pandas as pd\n",
    "import numpy as np\n",
    "import statsmodels.api as sm\n",
    "import statsmodels\n",
    "from scipy import stats\n",
    "import scipy\n",
    "import time\n",
    "import matplotlib.pyplot as plt\n",
    "import pickle\n",
    "import random\n",
    "import csv\n",
    "\n",
    "from sklearn.model_selection import KFold\n",
    "from sklearn.metrics import r2_score\n",
    "\n",
    "import torch\n",
    "import torch.optim as optim\n",
    "import torch.nn as nn\n",
    "from torch.utils.data import DataLoader\n",
    "from torch.utils.data import Dataset, TensorDataset\n",
    "# Import nn.functional\n",
    "import torch.nn.functional as F\n",
    "\n",
    "import sys\n",
    "\n",
    "device = 'cpu'\n"
   ]
  },
  {
   "cell_type": "code",
   "execution_count": null,
   "metadata": {},
   "outputs": [],
   "source": [
    "ind = sys.argv[1]\n",
    "start = time.time()\n"
   ]
  },
  {
   "cell_type": "code",
   "execution_count": 2,
   "metadata": {},
   "outputs": [],
   "source": [
    "# trim the gene labels ENSGXXXX.1  -> ENSGXXXX\n",
    "def trimLabelss(names):\n",
    "    return [i.split(\".\")[0] for i in names]"
   ]
  },
  {
   "cell_type": "code",
   "execution_count": 3,
   "metadata": {},
   "outputs": [],
   "source": [
    "#import GTEx gene count matrix\n",
    "normedMat = pd.read_csv(\"/gpfs/home/ydong/data/logTrimmedNormedCounts.csv\",index_col = \"Name\")\n",
    "normedMat = normedMat.transpose()\n",
    "\n",
    "#trim gene labels ENSGXXXX.1  -> ENSGXXXX\n",
    "normedMat.columns = trimLabelss(normedMat.columns)"
   ]
  },
  {
   "cell_type": "code",
   "execution_count": 5,
   "metadata": {},
   "outputs": [],
   "source": [
    "genes = list(normedMat.columns)\n",
    "currGeneL = list(pd.read_csv(\"/gpfs/home/ydong/data/GTEx/GTExProteinGenes/\"+ind+\".txt\",header = None)[0])\n"
   ]
  },
  {
   "cell_type": "code",
   "execution_count": 59,
   "metadata": {},
   "outputs": [
    {
     "data": {
      "text/plain": [
       "54.677330017089844"
      ]
     },
     "execution_count": 59,
     "metadata": {},
     "output_type": "execute_result"
    }
   ],
   "source": [
    "#loop through the list and get residuals of prediction\n",
    "outDF = pd.DataFrame(columns = currGeneL, index = list(normedMat.index))\n",
    "for currGene in currGeneL:\n",
    "    currModel = torch.load(\"/gpfs/home/ydong/data/mini/models/\" +str(ind)+\"/\"+currGene+\".sav\")\n",
    "    \n",
    "    # Get residual\n",
    "    currX = torch.from_numpy(normedMat.drop(currGene,axis = 1).to_numpy()).float().to(device)\n",
    "    pred = currModel(currX).detach().numpy()\n",
    "    Z = np.transpose(pred)[0]- list(normedMat[currGene])\n",
    "    outDF[currGene] = Z\n"
   ]
  },
  {
   "cell_type": "code",
   "execution_count": 60,
   "metadata": {},
   "outputs": [],
   "source": [
    "# perform a z test on models of genes\n",
    "# Z score -> 2 sided P-value\n",
    "absPs = []\n",
    "Zs = []\n",
    "\n",
    "for i in outDF.columns:\n",
    "    geneZ = stats.zscore(outDF[i])\n",
    "    Zs.append(geneZ)\n",
    "    absPs.append(stats.norm.sf(abs(geneZ))*2)\n",
    "absPs = np.array(absPs)"
   ]
  },
  {
   "cell_type": "code",
   "execution_count": 61,
   "metadata": {},
   "outputs": [],
   "source": [
    "PDF = pd.DataFrame(absPs,index =currGeneL ,columns =list(normedMat.index)).transpose()\n",
    "PDF.index.name = \"GeneID\"\n",
    "PDF.to_csv(\"/gpfs/home/ydong/data/mini/absP/\" +str(ind)+\".csv\")"
   ]
  },
  {
   "cell_type": "code",
   "execution_count": 68,
   "metadata": {
    "scrolled": true
   },
   "outputs": [
    {
     "name": "stdout",
     "output_type": "stream",
     "text": [
      "227.63564610481262\n"
     ]
    }
   ],
   "source": [
    "end = time.time()\n",
    "print(end - start)"
   ]
  },
  {
   "cell_type": "code",
   "execution_count": null,
   "metadata": {},
   "outputs": [],
   "source": []
  }
 ],
 "metadata": {
  "kernelspec": {
   "display_name": "Python 3",
   "language": "python",
   "name": "python3"
  },
  "language_info": {
   "codemirror_mode": {
    "name": "ipython",
    "version": 3
   },
   "file_extension": ".py",
   "mimetype": "text/x-python",
   "name": "python",
   "nbconvert_exporter": "python",
   "pygments_lexer": "ipython3",
   "version": "3.7.3"
  },
  "toc": {
   "base_numbering": 1,
   "nav_menu": {},
   "number_sections": false,
   "sideBar": false,
   "skip_h1_title": false,
   "title_cell": "Table of Contents",
   "title_sidebar": "Contents",
   "toc_cell": false,
   "toc_position": {},
   "toc_section_display": false,
   "toc_window_display": false
  }
 },
 "nbformat": 4,
 "nbformat_minor": 4
}
