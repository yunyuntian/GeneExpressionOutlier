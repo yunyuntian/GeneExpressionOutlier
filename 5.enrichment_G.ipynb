{
 "cells": [
  {
   "cell_type": "code",
   "execution_count": null,
   "metadata": {},
   "outputs": [],
   "source": [
    "library(ExOutBench)\n",
    "library(tidyr)\n",
    "library(radiant.data)\n",
    "library(textshape)\n",
    "library(dplyr)\n",
    "library(magrittr)\n",
    "library(FSA)\n",
    "library(ggplot2)\n",
    "library(readr)\n",
    "library(stringr)"
   ]
  },
  {
   "cell_type": "code",
   "execution_count": null,
   "metadata": {},
   "outputs": [],
   "source": [
    "args = commandArgs(trailingOnly=TRUE)"
   ]
  },
  {
   "cell_type": "code",
   "execution_count": null,
   "metadata": {},
   "outputs": [],
   "source": [
    "tissueList <- c('Whole Blood', 'Brain - Frontal Cortex (BA9)',\n",
    "       'Adipose - Subcutaneous', 'Muscle - Skeletal', 'Artery - Tibial',\n",
    "       'Artery - Coronary', 'Heart - Atrial Appendage',\n",
    "       'Adipose - Visceral (Omentum)', 'Ovary', 'Uterus', 'Vagina',\n",
    "       'Breast - Mammary Tissue', 'Skin - Not Sun Exposed (Suprapubic)',\n",
    "       'Minor Salivary Gland', 'Brain - Cortex', 'Adrenal Gland',\n",
    "       'Thyroid', 'Lung', 'Spleen', 'Pancreas', 'Esophagus - Muscularis',\n",
    "       'Esophagus - Mucosa', 'Esophagus - Gastroesophageal Junction',\n",
    "       'Stomach', 'Colon - Sigmoid', 'Small Intestine - Terminal Ileum',\n",
    "       'Colon - Transverse', 'Prostate', 'Testis',\n",
    "       'Skin - Sun Exposed (Lower leg)', 'Nerve - Tibial',\n",
    "       'Heart - Left Ventricle', 'Pituitary', 'Brain - Cerebellum',\n",
    "       'Cells - Cultured fibroblasts', 'Artery - Aorta',\n",
    "       'Cells - EBV-transformed lymphocytes',\n",
    "       'Brain - Cerebellar Hemisphere', 'Brain - Caudate (basal ganglia)',\n",
    "       'Brain - Nucleus accumbens (basal ganglia)',\n",
    "       'Brain - Putamen (basal ganglia)', 'Brain - Hypothalamus',\n",
    "       'Brain - Spinal cord (cervical c-1)', 'Liver',\n",
    "       'Brain - Hippocampus', 'Brain - Anterior cingulate cortex (BA24)',\n",
    "       'Brain - Substantia nigra', 'Kidney - Cortex', 'Brain - Amygdala',\n",
    "       'Cervix - Ectocervix', 'Fallopian Tube', 'Cervix - Endocervix',\n",
    "       'Bladder', 'Kidney - Medulla', 'Cells - Leukemia cell line (CML)')"
   ]
  },
  {
   "cell_type": "code",
   "execution_count": null,
   "metadata": {},
   "outputs": [],
   "source": [
    "# read in tissue name\n",
    "currTissue <- tissueList[strtoi(args[1])]"
   ]
  },
  {
   "cell_type": "code",
   "execution_count": null,
   "metadata": {},
   "outputs": [],
   "source": [
    "# read in the rare variants\n",
    "rare.variants <- read_tsv( \"/gpfs/home/ydong/enrichment/all_rare_variants_SNPs_10kb_genebody_w_consdetail_no_NA.tsv\",   progress = F)"
   ]
  },
  {
   "cell_type": "code",
   "execution_count": null,
   "metadata": {},
   "outputs": [],
   "source": [
    "# read in the P values\n",
    "pVal <- read_csv(paste(\"/gpfs/home/ydong/residualP/\",currTissue,\".csv\",sep = \"\"))"
   ]
  },
  {
   "cell_type": "code",
   "execution_count": null,
   "metadata": {},
   "outputs": [],
   "source": [
    "# reformat and align each sample with outlier snps\n",
    "pVal  %<>% \n",
    "  gather(SampleName, outlier.score, -GeneID) %>%\n",
    "  filter(complete.cases(.)) "
   ]
  },
  {
   "cell_type": "code",
   "execution_count": null,
   "metadata": {},
   "outputs": [],
   "source": [
    "enrichment.by.annotation.output.residual <- \n",
    "  enrichment_by_annotation(\n",
    "    pVal ,\n",
    "    rare.variants)"
   ]
  },
  {
   "cell_type": "code",
   "execution_count": null,
   "metadata": {},
   "outputs": [],
   "source": [
    "enrichment.by.significance.output.residual <- \n",
    "  enrichment_by_significance(\n",
    "    pVal ,\n",
    "    rare.variants)"
   ]
  },
  {
   "cell_type": "code",
   "execution_count": null,
   "metadata": {},
   "outputs": [],
   "source": [
    "expP <-read_csv(\"/gpfs/home/ydong/enrichment/expression_Muscle.csv\")\n",
    "\n",
    "expP  %<>% \n",
    "  gather(SampleName, outlier.score, -GeneID) %>%\n",
    "  filter(complete.cases(.)) "
   ]
  },
  {
   "cell_type": "code",
   "execution_count": null,
   "metadata": {},
   "outputs": [],
   "source": [
    "enrichment.by.annotation.output.expression <- \n",
    "  enrichment_by_annotation(\n",
    "    expP ,\n",
    "    rare.variants)\n"
   ]
  },
  {
   "cell_type": "code",
   "execution_count": null,
   "metadata": {},
   "outputs": [],
   "source": [
    "enrichment.by.significance.output.expression <- \n",
    "  enrichment_by_significance(\n",
    "    expP ,\n",
    "    rare.variants)\n"
   ]
  },
  {
   "cell_type": "code",
   "execution_count": null,
   "metadata": {},
   "outputs": [],
   "source": [
    "full_enrichment_plt <- list(`Residual` = enrichment.by.significance.output.residual, `Expression` = enrichment.by.significance.output.expression) %>%\n",
    "  bind_rows(.id = \"color_code\")\n",
    "full_enrichment_plt$sig <- factor(full_enrichment_plt$sig)"
   ]
  },
  {
   "cell_type": "code",
   "execution_count": null,
   "metadata": {},
   "outputs": [],
   "source": [
    "full_enrichment_plt"
   ]
  },
  {
   "cell_type": "code",
   "execution_count": null,
   "metadata": {},
   "outputs": [],
   "source": [
    "plt.tbl <- full_enrichment_plt\n",
    "plt.tbl <- plt.tbl %>%\n",
    "  arrange(desc(sig)) %>%\n",
    "  filter(n.outliers.w.var > 1) \n",
    "\n",
    "print(\n",
    "  ggplot(plt.tbl, aes(sig, ratio, color_code)) + \n",
    "    theme_linedraw() +\n",
    "    geom_pointrange(aes(ymin = lower.q, ymax = upper.q, color=plt.tbl$color_code),alpha = 0.70)  +\n",
    "    \n",
    "    geom_hline(yintercept = 1, color = \"red\") +\n",
    "    theme(axis.text.x = element_text(angle = 45, hjust = 1), title=element_text(color=\"black\", size=9.5, face=\"bold\"), \n",
    "    legend.position = \"bottom\", legend.title = element_text(color=\"black\", size=9, face=\"bold\")) + \n",
    "    scale_x_discrete(limits = rev(levels(plt.tbl$sig)))  + \n",
    "    labs(title=\"Modeling Residuals vs GTEx expression data enrichment by significance_muscle\", color = \"Data type\") \n",
    ")\n",
    "ggsave(paste(\"./graphs/significance_enrichment_\",currTissue,\".png\",sep = \"\"))\n"
   ]
  },
  {
   "cell_type": "code",
   "execution_count": null,
   "metadata": {},
   "outputs": [],
   "source": [
    "full_annotation_enrichment_plt <- list(`Residual` = enrichment.by.annotation.output.residual, `Expression` = enrichment.by.annotation.output.expression) %>%\n",
    "  bind_rows(.id = \"color_code\")\n",
    "full_annotation_enrichment_plt$anno <- factor(full_annotation_enrichment_plt$anno)"
   ]
  },
  {
   "cell_type": "code",
   "execution_count": null,
   "metadata": {},
   "outputs": [],
   "source": [
    "full_annotation_enrichment_plt$anno <- as.character(full_annotation_enrichment_plt$anno)"
   ]
  },
  {
   "cell_type": "code",
   "execution_count": null,
   "metadata": {},
   "outputs": [],
   "source": [
    "#sort new dataframe based on y value\n",
    "#mtcars[order(mpg, cyl),]\n",
    "full_annotation_enrichment_plt <- full_annotation_enrichment_plt[order(full_annotation_enrichment_plt$ratio),]"
   ]
  },
  {
   "cell_type": "code",
   "execution_count": null,
   "metadata": {},
   "outputs": [],
   "source": [
    "  plt.tbl <- full_annotation_enrichment_plt\n",
    "    plt.tbl <- plt.tbl %>%\n",
    "      arrange(desc(ratio)) %>%\n",
    "      filter(n.outliers.w.var > 1) %>%\n",
    "      group_by(anno) %>%\n",
    "      filter(n() > 1)\n",
    "\n",
    "    print(\n",
    "      ggplot(plt.tbl, aes(reorder(anno, -ratio), ratio)) +\n",
    "        theme_linedraw() +\n",
    "        geom_pointrange(aes(ymin = lower.q, ymax = upper.q, color=plt.tbl$color_code),alpha = 0.70)  +\n",
    "        geom_hline(yintercept = 1, color = \"red\") +\n",
    "        scale_y_continuous(trans='log2') +\n",
    "        theme(axis.text.x = element_text(angle = 45, hjust = 1), title=element_text(color=\"black\", size=9.5, face=\"bold\"),\n",
    "        legend.position = \"bottom\", legend.title = element_text(color=\"black\", size=9, face=\"bold\")) + \n",
    "        labs(title=\"Model Residual vs GTEx expression data enrichment by annotation (Muscle)\", color = \"Data type\" ) + xlab(\"variant annotation\") \n",
    "\n",
    "    )\n",
    "ggsave(paste(\"./graphs/annotation_enrichment_\",currTissue,\".png\",sep = \"\"))\n"
   ]
  },
  {
   "cell_type": "code",
   "execution_count": null,
   "metadata": {},
   "outputs": [],
   "source": []
  }
 ],
 "metadata": {
  "kernelspec": {
   "display_name": "R",
   "language": "R",
   "name": "ir"
  },
  "language_info": {
   "codemirror_mode": "r",
   "file_extension": ".r",
   "mimetype": "text/x-r-source",
   "name": "R",
   "pygments_lexer": "r",
   "version": "3.5.1"
  },
  "toc": {
   "base_numbering": 1,
   "nav_menu": {},
   "number_sections": false,
   "sideBar": false,
   "skip_h1_title": false,
   "title_cell": "Table of Contents",
   "title_sidebar": "Contents",
   "toc_cell": false,
   "toc_position": {},
   "toc_section_display": false,
   "toc_window_display": false
  }
 },
 "nbformat": 4,
 "nbformat_minor": 5
}
